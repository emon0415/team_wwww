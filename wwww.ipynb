{
 "cells": [
  {
   "cell_type": "markdown",
   "metadata": {},
   "source": [
    "チームわらわら　機械分析"
   ]
  },
  {
   "cell_type": "code",
   "execution_count": null,
   "metadata": {},
   "outputs": [],
   "source": [
    "import  pandas as pd"
   ]
  },
  {
   "cell_type": "code",
   "execution_count": null,
   "metadata": {},
   "outputs": [],
   "source": [
    "# CSVの読み込み\n",
    "df = pd.read_csv(\"wwww_db.csv\")"
   ]
  },
  {
   "cell_type": "markdown",
   "metadata": {},
   "source": [
    "ピボット処理を行い、reception_idごとに1行にまとめるワイドフォーマットへの変換"
   ]
  },
  {
   "cell_type": "code",
   "execution_count": null,
   "metadata": {},
   "outputs": [],
   "source": [
    "df_wide_format = df.pivot_table(index=\"reception_id\",\n",
    "                                columns=\"question_id\",\n",
    "                                values=[\"answer_numeric\", \"answer_boolean\", \"answer_categorical\"],\n",
    "                                aggfunc=\"first\")\n",
    "# カラム名を整理（例: \"q1_answer_numeric\", \"q2_answer_boolean\" など）\n",
    "df_wide_format.columns = [f\"q{col[1]}_{col[0]}\" for col in df_wide_format.columns]\n",
    "df_wide_format.reset_index(inplace=True)\n",
    "\n",
    "print(df_wide_format)"
   ]
  }
 ],
 "metadata": {
  "language_info": {
   "name": "python"
  }
 },
 "nbformat": 4,
 "nbformat_minor": 2
}
